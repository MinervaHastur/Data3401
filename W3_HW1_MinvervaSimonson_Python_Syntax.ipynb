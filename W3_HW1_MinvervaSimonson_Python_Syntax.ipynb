{
  "cells": [
    {
      "cell_type": "markdown",
      "metadata": {
        "id": "view-in-github",
        "colab_type": "text"
      },
      "source": [
        "<a href=\"https://colab.research.google.com/github/MinervaHastur/Data3401/blob/main/W3_HW1_MinvervaSimonson_Python_Syntax.ipynb\" target=\"_parent\"><img src=\"https://colab.research.google.com/assets/colab-badge.svg\" alt=\"Open In Colab\"/></a>"
      ]
    },
    {
      "cell_type": "markdown",
      "id": "64b779d8",
      "metadata": {
        "id": "64b779d8"
      },
      "source": [
        "## **Homework 2: Basic Markdown, Python Variables, Math Operations, User Input, and PEMDAS**\n",
        "\n",
        "This homework is designed to enhance your understanding of several fundamental concepts in Python and Jupyter Notebooks, including Markdown formatting, variable assignment, basic mathematics operations, handling user input, and the order of operations (PEMDAS).\n",
        "\n",
        "**Instructions:**\n",
        "- Answer each question in the notebook, using a Markdown cell for explanations and a code cell for Python code.\n",
        "- Ensure to execute your Python code to display the answers where applicable.\n"
      ]
    },
    {
      "cell_type": "markdown",
      "source": [],
      "metadata": {
        "id": "p8AJmVEDXpPF"
      },
      "id": "p8AJmVEDXpPF"
    },
    {
      "cell_type": "markdown",
      "id": "ec00d08e",
      "metadata": {
        "id": "ec00d08e"
      },
      "source": [
        "1. Show what Markdown is used for in Jupyter Notebooks."
      ]
    },
    {
      "cell_type": "markdown",
      "source": [
        "Markdown is used to write and format text within the notebook"
      ],
      "metadata": {
        "id": "0GEeb72cXqU0"
      },
      "id": "0GEeb72cXqU0"
    },
    {
      "cell_type": "code",
      "source": [
        "\n",
        "\n",
        "\n",
        "\n",
        "\n"
      ],
      "metadata": {
        "id": "EthAekKTyeBX"
      },
      "id": "EthAekKTyeBX",
      "execution_count": null,
      "outputs": []
    },
    {
      "cell_type": "markdown",
      "id": "9f44594b",
      "metadata": {
        "id": "9f44594b"
      },
      "source": [
        "2. Show how to format text to be bold in Markdown? Provide an example."
      ]
    },
    {
      "cell_type": "markdown",
      "source": [
        "**Bold text uses two asterisks around the text**"
      ],
      "metadata": {
        "id": "ISXwTNZBX2Zr"
      },
      "id": "ISXwTNZBX2Zr"
    },
    {
      "cell_type": "code",
      "source": [
        "\n",
        "\n",
        "\n",
        "\n"
      ],
      "metadata": {
        "id": "dyEdcesiyngl"
      },
      "id": "dyEdcesiyngl",
      "execution_count": null,
      "outputs": []
    },
    {
      "cell_type": "markdown",
      "id": "d3729096",
      "metadata": {
        "id": "d3729096"
      },
      "source": [
        "3. Create a Python variable named `a` and assign it the value 5."
      ]
    },
    {
      "cell_type": "code",
      "execution_count": null,
      "id": "59ee5aa4",
      "metadata": {
        "id": "59ee5aa4"
      },
      "outputs": [],
      "source": [
        "\n",
        "a=5\n",
        "\n",
        "\n",
        "\n"
      ]
    },
    {
      "cell_type": "markdown",
      "id": "4ea5fd99",
      "metadata": {
        "id": "4ea5fd99"
      },
      "source": [
        "4. Perform an addition operation with any two numbers and display the result."
      ]
    },
    {
      "cell_type": "code",
      "execution_count": 1,
      "id": "8b419b80",
      "metadata": {
        "id": "8b419b80",
        "colab": {
          "base_uri": "https://localhost:8080/"
        },
        "outputId": "73813231-7ab3-4cf5-f331-bf8ed2e27a52"
      },
      "outputs": [
        {
          "output_type": "execute_result",
          "data": {
            "text/plain": [
              "11"
            ]
          },
          "metadata": {},
          "execution_count": 1
        }
      ],
      "source": [
        "\n",
        "\n",
        "\n",
        "5+6\n"
      ]
    },
    {
      "cell_type": "markdown",
      "id": "809fea36",
      "metadata": {
        "id": "809fea36"
      },
      "source": [
        "5. Divide 15 by 3 and show the result."
      ]
    },
    {
      "cell_type": "code",
      "execution_count": 2,
      "id": "be300337",
      "metadata": {
        "id": "be300337",
        "colab": {
          "base_uri": "https://localhost:8080/"
        },
        "outputId": "a1c728b8-d8fa-4e79-82b7-16de935b4ebd"
      },
      "outputs": [
        {
          "output_type": "execute_result",
          "data": {
            "text/plain": [
              "5.0"
            ]
          },
          "metadata": {},
          "execution_count": 2
        }
      ],
      "source": [
        "\n",
        "\n",
        "\n",
        "15/3\n",
        "\n",
        "\n"
      ]
    },
    {
      "cell_type": "markdown",
      "id": "7b0f891c",
      "metadata": {
        "id": "7b0f891c"
      },
      "source": [
        "6. Use the `input()` function to ask the user for their name and then greet them."
      ]
    },
    {
      "cell_type": "code",
      "execution_count": 4,
      "id": "ab2198cc",
      "metadata": {
        "id": "ab2198cc",
        "colab": {
          "base_uri": "https://localhost:8080/"
        },
        "outputId": "6fbbdefe-e27f-46ef-d1dc-0e94517c9072"
      },
      "outputs": [
        {
          "output_type": "stream",
          "name": "stdout",
          "text": [
            "What is your name: Minerva\n",
            "Hello  Minerva\n"
          ]
        }
      ],
      "source": [
        "\n",
        "name=input(\"What is your name: \")\n",
        "print(\"Hello \", name)\n",
        "\n",
        "\n",
        "\n",
        "\n"
      ]
    },
    {
      "cell_type": "markdown",
      "id": "181413d2",
      "metadata": {
        "id": "181413d2"
      },
      "source": [
        "7. Calculate the square of 7 and display the result."
      ]
    },
    {
      "cell_type": "code",
      "execution_count": 5,
      "id": "18b86315",
      "metadata": {
        "id": "18b86315",
        "colab": {
          "base_uri": "https://localhost:8080/"
        },
        "outputId": "0ea4163f-53bc-46f5-cdbc-f9200343f34b"
      },
      "outputs": [
        {
          "output_type": "execute_result",
          "data": {
            "text/plain": [
              "49"
            ]
          },
          "metadata": {},
          "execution_count": 5
        }
      ],
      "source": [
        "\n",
        "7**2\n",
        "\n",
        "\n",
        "\n",
        "\n",
        "\n",
        "\n",
        "\n"
      ]
    },
    {
      "cell_type": "markdown",
      "id": "7a0f4c79",
      "metadata": {
        "id": "7a0f4c79"
      },
      "source": [
        "8. Ask the user for a number, multiply it by 2, and display the result."
      ]
    },
    {
      "cell_type": "code",
      "execution_count": 6,
      "id": "206d8834",
      "metadata": {
        "id": "206d8834",
        "colab": {
          "base_uri": "https://localhost:8080/"
        },
        "outputId": "26ff550c-ccb0-48bd-b463-34838d243228"
      },
      "outputs": [
        {
          "output_type": "stream",
          "name": "stdout",
          "text": [
            "give me a number: 6\n",
            "12\n"
          ]
        }
      ],
      "source": [
        "num=int(input(\"give me a number: \"))\n",
        "ans=num*2\n",
        "print(ans)\n",
        "\n",
        "\n",
        "\n",
        "\n",
        "\n",
        "\n"
      ]
    },
    {
      "cell_type": "markdown",
      "id": "ea0dd3a5",
      "metadata": {
        "id": "ea0dd3a5"
      },
      "source": [
        "9. Write a program that converts time from hours to seconds. Ask the user to input the time in hours, and then convert that time into seconds. Remember, 1 hour equals 3600 seconds."
      ]
    },
    {
      "cell_type": "code",
      "source": [
        "hrs=int(input(\"Enter a time in hours: \"))\n",
        "secs=hrs*3600\n",
        "print(secs)\n",
        "\n",
        "\n",
        "\n",
        "\n",
        "\n",
        "\n"
      ],
      "metadata": {
        "id": "K5F9Y3ZPzMlD",
        "colab": {
          "base_uri": "https://localhost:8080/"
        },
        "outputId": "4bb83ecf-c4be-411a-84be-1ce3a1a82c10"
      },
      "id": "K5F9Y3ZPzMlD",
      "execution_count": 8,
      "outputs": [
        {
          "output_type": "stream",
          "name": "stdout",
          "text": [
            "Enter a time in hours: 2\n",
            "7200\n"
          ]
        }
      ]
    },
    {
      "cell_type": "markdown",
      "id": "33988976",
      "metadata": {
        "id": "33988976"
      },
      "source": [
        "10. Evaluate the expression `3 * (4 + 5) - 6 / 2` and display the result."
      ]
    },
    {
      "cell_type": "code",
      "execution_count": 9,
      "id": "e346f170",
      "metadata": {
        "id": "e346f170",
        "colab": {
          "base_uri": "https://localhost:8080/"
        },
        "outputId": "f9675f27-2924-4126-9dbe-44f8c7a9d66e"
      },
      "outputs": [
        {
          "output_type": "execute_result",
          "data": {
            "text/plain": [
              "24.0"
            ]
          },
          "metadata": {},
          "execution_count": 9
        }
      ],
      "source": [
        "\n",
        "3*(4+5)-6/2\n",
        "\n",
        "\n",
        "\n",
        "\n",
        "\n"
      ]
    },
    {
      "cell_type": "markdown",
      "id": "238b253e",
      "metadata": {
        "id": "238b253e"
      },
      "source": [
        "11. Assign the string 'Python' to a variable and print it."
      ]
    },
    {
      "cell_type": "code",
      "execution_count": 10,
      "id": "c390538f",
      "metadata": {
        "id": "c390538f",
        "colab": {
          "base_uri": "https://localhost:8080/"
        },
        "outputId": "8909a2db-1114-4cc9-9eff-988cc2c13de2"
      },
      "outputs": [
        {
          "output_type": "stream",
          "name": "stdout",
          "text": [
            "Python\n"
          ]
        }
      ],
      "source": [
        "\n",
        "a=\"Python\"\n",
        "print(a)\n",
        "\n",
        "\n",
        "\n",
        "\n",
        "\n"
      ]
    },
    {
      "cell_type": "markdown",
      "id": "7c5a89d6",
      "metadata": {
        "id": "7c5a89d6"
      },
      "source": [
        "12. Calculate the remainder when 22 is divided by 5."
      ]
    },
    {
      "cell_type": "code",
      "execution_count": 11,
      "id": "db0b5ac5",
      "metadata": {
        "id": "db0b5ac5",
        "colab": {
          "base_uri": "https://localhost:8080/"
        },
        "outputId": "cea62218-27f4-452f-d2c0-10e1c69ed86e"
      },
      "outputs": [
        {
          "output_type": "execute_result",
          "data": {
            "text/plain": [
              "2"
            ]
          },
          "metadata": {},
          "execution_count": 11
        }
      ],
      "source": [
        "22%5\n",
        "\n",
        "\n",
        "\n",
        "\n",
        "\n",
        "\n",
        "\n"
      ]
    },
    {
      "cell_type": "markdown",
      "id": "6dbc6d95",
      "metadata": {
        "id": "6dbc6d95"
      },
      "source": [
        "\n",
        "13. Ask the user for two numbers, add them together, and display the sum."
      ]
    },
    {
      "cell_type": "code",
      "execution_count": 12,
      "id": "8fa878a0",
      "metadata": {
        "id": "8fa878a0",
        "colab": {
          "base_uri": "https://localhost:8080/"
        },
        "outputId": "5d609831-de9a-462c-c50c-ae60667f8b74"
      },
      "outputs": [
        {
          "output_type": "stream",
          "name": "stdout",
          "text": [
            "Enter a number: 5\n",
            "Enter another number: 5\n",
            "The sum is 10\n"
          ]
        }
      ],
      "source": [
        "a=int(input(\"Enter a number: \"))\n",
        "b=int(input(\"Enter another number: \"))\n",
        "print(\"The sum is\", a+b)\n",
        "\n",
        "\n",
        "\n",
        "\n",
        "\n",
        "\n"
      ]
    },
    {
      "cell_type": "markdown",
      "source": [
        "14. Write a Python code snippet that takes user input and prints the type of the input variable."
      ],
      "metadata": {
        "id": "Xfr-7PXNAsTJ"
      },
      "id": "Xfr-7PXNAsTJ"
    },
    {
      "cell_type": "code",
      "source": [
        "var=input(\"Enter an input: \")\n",
        "print(type(var))\n",
        "\n",
        "\n",
        "\n",
        "\n",
        "\n",
        "\n",
        "\n",
        "\n"
      ],
      "metadata": {
        "id": "rM_ZHEpoAsdh",
        "colab": {
          "base_uri": "https://localhost:8080/"
        },
        "outputId": "e031abaf-81f8-4328-f5c4-e29235db6928"
      },
      "id": "rM_ZHEpoAsdh",
      "execution_count": 13,
      "outputs": [
        {
          "output_type": "stream",
          "name": "stdout",
          "text": [
            "Enter an inputOk\n",
            "<class 'str'>\n"
          ]
        }
      ]
    },
    {
      "cell_type": "markdown",
      "id": "a5d705bf",
      "metadata": {
        "id": "a5d705bf"
      },
      "source": [
        "15. Calculate the product of 8 and 12, then subtract 4 and display the result."
      ]
    },
    {
      "cell_type": "code",
      "execution_count": null,
      "id": "18b337a3",
      "metadata": {
        "id": "18b337a3"
      },
      "outputs": [],
      "source": [
        "a=8*12\n",
        "b=a-4\n",
        "print(b)\n",
        "\n",
        "\n",
        "\n",
        "\n",
        "\n",
        "\n",
        "\n"
      ]
    },
    {
      "cell_type": "markdown",
      "id": "672bab76",
      "metadata": {
        "id": "672bab76"
      },
      "source": [
        "16. Explain the difference between `==` and `=` in Python."
      ]
    },
    {
      "cell_type": "code",
      "source": [
        "### = sets things to be equal to eachother == checks if things are equal to eacother\n",
        "a=5\n",
        "if a==5:\n",
        "  print(\"You know how = and == work\")\n",
        "\n",
        "\n",
        "\n",
        "\n",
        "\n",
        "\n",
        "\n"
      ],
      "metadata": {
        "id": "fOf-_TJuyqN9",
        "colab": {
          "base_uri": "https://localhost:8080/"
        },
        "outputId": "1fa39157-be1c-455b-b03d-21a66935a274"
      },
      "id": "fOf-_TJuyqN9",
      "execution_count": 14,
      "outputs": [
        {
          "output_type": "stream",
          "name": "stdout",
          "text": [
            "You know how = and == work\n"
          ]
        }
      ]
    },
    {
      "cell_type": "markdown",
      "id": "68b3a3ff",
      "metadata": {
        "id": "68b3a3ff"
      },
      "source": [
        "17. Use Python to find the floor division of 100 by 11."
      ]
    },
    {
      "cell_type": "code",
      "execution_count": 15,
      "id": "ae879bf3",
      "metadata": {
        "id": "ae879bf3",
        "colab": {
          "base_uri": "https://localhost:8080/"
        },
        "outputId": "84c4d045-1295-47fa-9d43-eb623081a145"
      },
      "outputs": [
        {
          "output_type": "execute_result",
          "data": {
            "text/plain": [
              "9"
            ]
          },
          "metadata": {},
          "execution_count": 15
        }
      ],
      "source": [
        "\n",
        "\n",
        "100//11\n",
        "\n",
        "\n",
        "\n",
        "\n",
        "\n",
        "\n"
      ]
    },
    {
      "cell_type": "markdown",
      "id": "ffd04019",
      "metadata": {
        "id": "ffd04019"
      },
      "source": [
        "18. Ask the user for a number, then calculate the square of that number."
      ]
    },
    {
      "cell_type": "code",
      "execution_count": 16,
      "id": "c616706b",
      "metadata": {
        "id": "c616706b",
        "colab": {
          "base_uri": "https://localhost:8080/"
        },
        "outputId": "90118331-afe1-4547-ae59-c38efb458173"
      },
      "outputs": [
        {
          "name": "stdout",
          "output_type": "stream",
          "text": [
            "Enter a Number: 2\n"
          ]
        },
        {
          "output_type": "execute_result",
          "data": {
            "text/plain": [
              "4"
            ]
          },
          "metadata": {},
          "execution_count": 16
        }
      ],
      "source": [
        "a=int(input(\"Enter a Number: \"))\n",
        "a**2\n",
        "\n",
        "\n",
        "\n",
        "\n",
        "\n",
        "\n",
        "\n",
        "\n"
      ]
    },
    {
      "cell_type": "markdown",
      "id": "b1d61384",
      "metadata": {
        "id": "b1d61384"
      },
      "source": [
        "19. What does the `%` operator do in Python? Provide an example."
      ]
    },
    {
      "cell_type": "code",
      "execution_count": 17,
      "id": "c4d33464",
      "metadata": {
        "id": "c4d33464",
        "colab": {
          "base_uri": "https://localhost:8080/"
        },
        "outputId": "c6624e12-fb96-490a-9818-5015d43fb3c5"
      },
      "outputs": [
        {
          "output_type": "stream",
          "name": "stdout",
          "text": [
            "0\n",
            "1\n"
          ]
        }
      ],
      "source": [
        "### the % operator provides then remainder left by division\n",
        "print(10%5)\n",
        "print(11%5)\n",
        "\n",
        "\n",
        "\n",
        "\n",
        "\n"
      ]
    },
    {
      "cell_type": "markdown",
      "id": "ff3ed06e",
      "metadata": {
        "id": "ff3ed06e"
      },
      "source": [
        "20. Using variables, demonstrate how to calculate and print the area of a rectangle (length * width)."
      ]
    },
    {
      "cell_type": "code",
      "execution_count": 18,
      "id": "692bbc9c",
      "metadata": {
        "id": "692bbc9c",
        "colab": {
          "base_uri": "https://localhost:8080/"
        },
        "outputId": "ee209370-6498-457d-a35d-18bafd9fe7a6"
      },
      "outputs": [
        {
          "output_type": "stream",
          "name": "stdout",
          "text": [
            "25\n"
          ]
        }
      ],
      "source": [
        "len=5\n",
        "wid=5\n",
        "area=len*wid\n",
        "print(area)\n",
        "\n",
        "\n",
        "\n",
        "\n",
        "\n"
      ]
    }
  ],
  "metadata": {
    "colab": {
      "provenance": [],
      "include_colab_link": true
    },
    "language_info": {
      "name": "python"
    },
    "kernelspec": {
      "name": "python3",
      "display_name": "Python 3"
    }
  },
  "nbformat": 4,
  "nbformat_minor": 5
}