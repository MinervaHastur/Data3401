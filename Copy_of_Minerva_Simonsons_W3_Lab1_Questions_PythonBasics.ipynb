{
  "nbformat": 4,
  "nbformat_minor": 0,
  "metadata": {
    "colab": {
      "provenance": [],
      "include_colab_link": true
    },
    "kernelspec": {
      "name": "python3",
      "display_name": "Python 3"
    },
    "language_info": {
      "name": "python"
    }
  },
  "cells": [
    {
      "cell_type": "markdown",
      "metadata": {
        "id": "view-in-github",
        "colab_type": "text"
      },
      "source": [
        "<a href=\"https://colab.research.google.com/github/MinervaHastur/Data3401/blob/main/Copy_of_Minerva_Simonsons_W3_Lab1_Questions_PythonBasics.ipynb\" target=\"_parent\"><img src=\"https://colab.research.google.com/assets/colab-badge.svg\" alt=\"Open In Colab\"/></a>"
      ]
    },
    {
      "cell_type": "markdown",
      "source": [
        "# **Week 3. Lab 1.Basic Python Questions**"
      ],
      "metadata": {
        "id": "dJRqccH38yqj"
      }
    },
    {
      "cell_type": "markdown",
      "source": [
        "**Question 1:** What are the two types of numeric data types in Python? give me example of each example."
      ],
      "metadata": {
        "id": "CJmjQNrk860w"
      }
    },
    {
      "cell_type": "code",
      "execution_count": null,
      "metadata": {
        "id": "I4NYw3qe6lnp",
        "colab": {
          "base_uri": "https://localhost:8080/"
        },
        "outputId": "037ed0ad-f50b-4380-ac88-7ecf5f0e132f"
      },
      "outputs": [
        {
          "output_type": "stream",
          "name": "stdout",
          "text": [
            "<class 'int'>\n",
            "<class 'float'>\n"
          ]
        }
      ],
      "source": [
        "\n",
        "##float and Int\n",
        "\n",
        "numint=1\n",
        "numfloat=5.4352\n",
        "print(type(numint))\n",
        "\n",
        "print(type(numfloat))\n",
        "\n",
        "\n",
        "\n",
        "\n",
        "\n",
        "\n",
        "\n"
      ]
    },
    {
      "cell_type": "markdown",
      "source": [
        "**Question 2:** How do you convert the string \"123\"\n",
        "\n",
        "into an integer?"
      ],
      "metadata": {
        "id": "FEzyJah487x8"
      }
    },
    {
      "cell_type": "code",
      "source": [
        "numstr=\"123\"\n",
        "type (numstr)\n",
        "numstr=int(numstr)\n",
        "type(numstr)\n",
        "\n",
        "\n",
        "\n",
        "\n",
        "\n",
        "\n",
        "\n",
        "\n",
        "\n",
        "\n"
      ],
      "metadata": {
        "id": "sbS1DmCi87_Z",
        "colab": {
          "base_uri": "https://localhost:8080/"
        },
        "outputId": "bd09a9b5-ed17-4c02-f072-a3d817bea267"
      },
      "execution_count": null,
      "outputs": [
        {
          "output_type": "execute_result",
          "data": {
            "text/plain": [
              "int"
            ]
          },
          "metadata": {},
          "execution_count": 38
        }
      ]
    },
    {
      "cell_type": "markdown",
      "source": [
        "**Question 3:** Write a Python expression that adds two integers and then multiplies the result by a float."
      ],
      "metadata": {
        "id": "hn-i5AYP88G6"
      }
    },
    {
      "cell_type": "code",
      "source": [
        "from operator import mul\n",
        "vari1=int(1)\n",
        "vari2=int(2)\n",
        "vari3=float(6.39)\n",
        "answer=float((vari1+vari2)*(vari3))\n",
        "print(answer)\n",
        "\n",
        "\n",
        "\n",
        "\n",
        "\n",
        "\n",
        "\n"
      ],
      "metadata": {
        "id": "emm9CCuf88T6",
        "colab": {
          "base_uri": "https://localhost:8080/"
        },
        "outputId": "74ac8732-68f3-44fd-b4c4-e2b9fe9a091a"
      },
      "execution_count": null,
      "outputs": [
        {
          "output_type": "stream",
          "name": "stdout",
          "text": [
            "19.169999999999998\n"
          ]
        }
      ]
    },
    {
      "cell_type": "markdown",
      "source": [
        "**Question 4:** What is the output of the following code: print(8 / 4)?"
      ],
      "metadata": {
        "id": "DAVlKXha88bK"
      }
    },
    {
      "cell_type": "code",
      "source": [
        "\n",
        "print(8/4)\n",
        "##2.0\n",
        "\n",
        "\n",
        "\n",
        "\n",
        "\n",
        "\n"
      ],
      "metadata": {
        "id": "PJgUqajS88i-",
        "colab": {
          "base_uri": "https://localhost:8080/"
        },
        "outputId": "91d59608-ef73-4bc9-88fe-f219784f9498"
      },
      "execution_count": null,
      "outputs": [
        {
          "output_type": "stream",
          "name": "stdout",
          "text": [
            "2.0\n"
          ]
        }
      ]
    },
    {
      "cell_type": "markdown",
      "source": [
        "**Question 5:**Given the variables x = 5 and y = 2, write a Python expression that uses PEMDAS rules to calculate (x^2 + y) / (y - x)."
      ],
      "metadata": {
        "id": "9vaweyAe889q"
      }
    },
    {
      "cell_type": "code",
      "source": [
        "x=5\n",
        "y=2\n",
        "((x**2)+y)/(y-x)\n",
        "\n",
        "\n",
        "\n",
        "\n",
        "\n"
      ],
      "metadata": {
        "id": "v-rSgvou89EL",
        "colab": {
          "base_uri": "https://localhost:8080/"
        },
        "outputId": "ab3503ad-5b66-491d-a011-bc44eeb8e634"
      },
      "execution_count": null,
      "outputs": [
        {
          "output_type": "execute_result",
          "data": {
            "text/plain": [
              "-9.0"
            ]
          },
          "metadata": {},
          "execution_count": 22
        }
      ]
    },
    {
      "cell_type": "markdown",
      "source": [
        "**Question 6:**  How do you create a string variable containing the text \"Hello, Python!\"?"
      ],
      "metadata": {
        "id": "xiQk2vWi89Ma"
      }
    },
    {
      "cell_type": "code",
      "source": [
        "\n",
        "hi=\"Hellow, Python!\"\n",
        "print(hi)\n",
        "\n",
        "\n",
        "\n",
        "\n"
      ],
      "metadata": {
        "id": "Xg8pKYVp89TC"
      },
      "execution_count": null,
      "outputs": []
    },
    {
      "cell_type": "markdown",
      "source": [
        "**Question 7:**Write a Python line of code that asks the user for their name and then prints a greeting including the name."
      ],
      "metadata": {
        "id": "8hueKW7x89oK"
      }
    },
    {
      "cell_type": "code",
      "source": [
        "\n",
        "\n",
        "yourname=input(\"What is your name: \")\n",
        "print(\"Hello \"++ yourname)\n",
        "\n",
        "\n",
        "\n",
        "\n",
        "\n",
        "\n"
      ],
      "metadata": {
        "id": "YdoAzlo589vK",
        "colab": {
          "base_uri": "https://localhost:8080/"
        },
        "outputId": "7f4cb3fb-4a3c-4e39-b846-ebd7e9a9d711"
      },
      "execution_count": null,
      "outputs": [
        {
          "name": "stdout",
          "output_type": "stream",
          "text": [
            "What is your name: Minerva\n"
          ]
        }
      ]
    },
    {
      "cell_type": "markdown",
      "source": [
        "**Question 8:**What will be the output of the following code snippet: print(10 % 3)?"
      ],
      "metadata": {
        "id": "qFb6oDRD892C"
      }
    },
    {
      "cell_type": "code",
      "source": [
        "print(10%3)\n",
        "##1\n",
        "\n",
        "\n",
        "\n",
        "\n",
        "\n",
        "\n"
      ],
      "metadata": {
        "id": "DlGqP8ZO898x",
        "colab": {
          "base_uri": "https://localhost:8080/"
        },
        "outputId": "7ceebac0-eaa9-4b5f-9ae2-d3e63e9d973d"
      },
      "execution_count": null,
      "outputs": [
        {
          "output_type": "stream",
          "name": "stdout",
          "text": [
            "1\n"
          ]
        }
      ]
    },
    {
      "cell_type": "markdown",
      "source": [
        "**Question 9:** Create a float number, then convert a float to an integer in Python?"
      ],
      "metadata": {
        "id": "XSZV9r6K8-Ep"
      }
    },
    {
      "cell_type": "code",
      "source": [
        "num=float(5.999)\n",
        "round(num)\n",
        "num=int(num)\n",
        "type(num)\n",
        "\n",
        "\n",
        "\n",
        "\n",
        "\n",
        "\n",
        "\n",
        "\n",
        "\n",
        "\n"
      ],
      "metadata": {
        "id": "zfaNoPmI8-LR",
        "colab": {
          "base_uri": "https://localhost:8080/"
        },
        "outputId": "23d141fb-a6dc-4f08-c501-2f3bb163b156"
      },
      "execution_count": null,
      "outputs": [
        {
          "output_type": "execute_result",
          "data": {
            "text/plain": [
              "int"
            ]
          },
          "metadata": {},
          "execution_count": 28
        }
      ]
    },
    {
      "cell_type": "markdown",
      "source": [
        "**Question 10:**Write a Python code snippet that calculates the average of three numbers: 4, 5, and 8."
      ],
      "metadata": {
        "id": "VFBBGXLW8-U6"
      }
    },
    {
      "cell_type": "code",
      "source": [
        "\n",
        "x=4\n",
        "y=5\n",
        "z=8\n",
        "\n",
        "print((x+y+z)/3)\n",
        "\n",
        "\n",
        "\n",
        "\n",
        "\n",
        "\n",
        "\n"
      ],
      "metadata": {
        "id": "2k2qavo18-cJ",
        "colab": {
          "base_uri": "https://localhost:8080/"
        },
        "outputId": "bd72a28f-3746-424f-d3dd-d654761efbef"
      },
      "execution_count": null,
      "outputs": [
        {
          "output_type": "stream",
          "name": "stdout",
          "text": [
            "5.666666666666667\n"
          ]
        }
      ]
    },
    {
      "cell_type": "markdown",
      "source": [
        "**Question 11:** Explain the difference between the output of print(9 // 2) and print(9 / 2)."
      ],
      "metadata": {
        "id": "y6LO7GBU9rtD"
      }
    },
    {
      "cell_type": "code",
      "source": [
        "\n",
        "print(9//2)\n",
        "print(9/2)\n",
        "##the output of 9//2 is data type int\n",
        "##the output of 9/2 is data type float\n",
        "\n",
        "\n",
        "\n",
        "\n",
        "\n",
        "\n",
        "\n",
        "\n",
        "\n"
      ],
      "metadata": {
        "id": "TvU7iqem9r46",
        "colab": {
          "base_uri": "https://localhost:8080/"
        },
        "outputId": "24bfd8b8-1610-4b3b-9857-63e29ad70d00"
      },
      "execution_count": null,
      "outputs": [
        {
          "output_type": "stream",
          "name": "stdout",
          "text": [
            "4\n",
            "4.5\n"
          ]
        }
      ]
    },
    {
      "cell_type": "markdown",
      "source": [
        "**Question 12:** Write a Python script that takes two user inputs: first_name and last_name, then prints them in reverse order with a space between them."
      ],
      "metadata": {
        "id": "XJ49xH609r_y"
      }
    },
    {
      "cell_type": "code",
      "source": [
        "nameF=input(\"What is your first name: \")\n",
        "nameL=input(\"What is your last name: \")\n",
        "print(nameL+\" \"+nameF)\n",
        "\n",
        "\n",
        "\n",
        "\n",
        "\n",
        "\n",
        "\n",
        "\n"
      ],
      "metadata": {
        "id": "YK-efpi99sKD",
        "colab": {
          "base_uri": "https://localhost:8080/"
        },
        "outputId": "45d45868-8f89-4c00-aecc-6f2fe2f1e15a"
      },
      "execution_count": null,
      "outputs": [
        {
          "output_type": "stream",
          "name": "stdout",
          "text": [
            "What is your first name: Minerva\n",
            "What is your last name: Simonson \n",
            "Simonson  Minerva\n"
          ]
        }
      ]
    },
    {
      "cell_type": "markdown",
      "source": [
        "**Question 13:** What is the result of the following expression: (100 - 5 ** 3) / 5?"
      ],
      "metadata": {
        "id": "sYdMMq039sQb"
      }
    },
    {
      "cell_type": "code",
      "source": [
        "(100-5**3)/5\n",
        "##-5.0\n",
        "\n",
        "\n"
      ],
      "metadata": {
        "id": "RAfbER1y9sXC",
        "colab": {
          "base_uri": "https://localhost:8080/"
        },
        "outputId": "21d928f8-8e42-48af-f053-b4645dd169aa"
      },
      "execution_count": null,
      "outputs": [
        {
          "output_type": "execute_result",
          "data": {
            "text/plain": [
              "-5.0"
            ]
          },
          "metadata": {},
          "execution_count": 36
        }
      ]
    },
    {
      "cell_type": "markdown",
      "source": [
        "**Question 14:**Calculate the result of the following expression and explain the order of operations: (8 + 2 * 5) / (1 + 3 * 2 - 4)."
      ],
      "metadata": {
        "id": "A3SH1FzK-D-z"
      }
    },
    {
      "cell_type": "code",
      "source": [
        "(8+2*5)/(1+3*2-4)\n",
        "\n",
        "## Python uses PEMDAS, so it executes all operators in parenthes first, followed by exponets, followed by multplication and divsion, followed by addition and subtraction\n",
        "\n",
        "\n"
      ],
      "metadata": {
        "id": "h-njko9V-EF6",
        "colab": {
          "base_uri": "https://localhost:8080/"
        },
        "outputId": "5cea52be-183f-49b7-edb0-a1f3ce7d95ad"
      },
      "execution_count": null,
      "outputs": [
        {
          "output_type": "execute_result",
          "data": {
            "text/plain": [
              "6.0"
            ]
          },
          "metadata": {},
          "execution_count": 37
        }
      ]
    },
    {
      "cell_type": "markdown",
      "source": [
        "**Question 15:**String and Arithmetic Operations: Given x = \"100\" and y = \"200\", convert them to integers, add them, then convert the result back to a string."
      ],
      "metadata": {
        "id": "74AE30Cp-EME"
      }
    },
    {
      "cell_type": "code",
      "source": [
        "A=\"100\"\n",
        "B=\"200\"\n",
        "C=int(100+200)\n",
        "C=str(C)\n",
        "type(C)\n",
        "\n",
        "\n",
        "\n",
        "\n",
        "\n"
      ],
      "metadata": {
        "id": "EWNGnrjE-EVs",
        "colab": {
          "base_uri": "https://localhost:8080/"
        },
        "outputId": "8230530e-3a18-4540-9575-b48fca16ef5d"
      },
      "execution_count": null,
      "outputs": [
        {
          "output_type": "execute_result",
          "data": {
            "text/plain": [
              "str"
            ]
          },
          "metadata": {},
          "execution_count": 40
        }
      ]
    },
    {
      "cell_type": "markdown",
      "source": [
        "**Question 16:** User Input Conversion: Write a Python script that asks for two numbers from the user, converts them to integers, multiplies them, and prints the result. Comparing Strings and Integers: What will be the result of comparing"
      ],
      "metadata": {
        "id": "s1f4PYsR-Eby"
      }
    },
    {
      "cell_type": "code",
      "source": [
        "A = int(input(\"enter a number: \"))\n",
        "B = int(input(\"enter a second number: \"))\n",
        "C=A*B\n",
        "print(C)\n",
        "\n"
      ],
      "metadata": {
        "id": "C3rmW5Lr-Eiz",
        "colab": {
          "base_uri": "https://localhost:8080/"
        },
        "outputId": "d07675cc-0d80-44c4-c4b4-68c224489d8d"
      },
      "execution_count": null,
      "outputs": [
        {
          "name": "stdout",
          "output_type": "stream",
          "text": [
            "enter a number: 3\n"
          ]
        }
      ]
    },
    {
      "cell_type": "markdown",
      "source": [
        "**Question 17:** Given a = 5.7 and b = \"3\", convert b to an integer, add a and b, and round the result to the nearest integer."
      ],
      "metadata": {
        "id": "c69crKjA-XHr"
      }
    },
    {
      "cell_type": "code",
      "source": [
        "b=\"3\"\n",
        "b=int(b)\n",
        "a=5.7\n",
        "c=a+b\n",
        "round(c)\n",
        "\n",
        "\n"
      ],
      "metadata": {
        "id": "hKA7-jqF-XWL",
        "colab": {
          "base_uri": "https://localhost:8080/"
        },
        "outputId": "e585ae23-51a3-446d-a458-9e334b62a6b8"
      },
      "execution_count": null,
      "outputs": [
        {
          "output_type": "execute_result",
          "data": {
            "text/plain": [
              "9"
            ]
          },
          "metadata": {},
          "execution_count": 55
        }
      ]
    },
    {
      "cell_type": "markdown",
      "source": [
        "\n",
        "**Question 18:** Write a Python program that requests the user to input a distance in kilometers and then converts it to miles.\""
      ],
      "metadata": {
        "id": "4kvWui6Q-3MC"
      }
    },
    {
      "cell_type": "code",
      "source": [
        "kilo=input(\"Enter a distance in Kilometers: \")\n",
        "kilo=float(kilo)\n",
        "mile=float(kilo*0.6213712)\n",
        "print(mile)\n",
        "\n",
        "\n",
        "\n",
        "\n",
        "\n",
        "\n",
        "\n",
        "\n",
        "\n",
        "\n",
        "\n"
      ],
      "metadata": {
        "id": "1zQ_sHnB-3T0",
        "colab": {
          "base_uri": "https://localhost:8080/"
        },
        "outputId": "40b0bf98-c3ad-4f92-f379-abec2ced978e"
      },
      "execution_count": null,
      "outputs": [
        {
          "output_type": "stream",
          "name": "stdout",
          "text": [
            "Enter a distance in Kilometers: 9\n",
            "5.5923408000000006\n"
          ]
        }
      ]
    },
    {
      "cell_type": "markdown",
      "source": [
        "**Question 19:** Develop a Python script that prompts the user to provide a speed in kilometers per hour and then converts it to meters per second"
      ],
      "metadata": {
        "id": "DrO1-dE1-3qd"
      }
    },
    {
      "cell_type": "code",
      "source": [
        "MPH=input(\"Enter a speed in kilometers per hour \")\n",
        "MPH = float(MPH)\n",
        "mPS= MPH*0.44704\n",
        "print(mPS)\n",
        "\n",
        "\n",
        "\n",
        "\n",
        "\n",
        "\n",
        "\n",
        "\n",
        "\n",
        "\n",
        "\n",
        "\n"
      ],
      "metadata": {
        "id": "u9_EKI7x-3xi",
        "colab": {
          "base_uri": "https://localhost:8080/"
        },
        "outputId": "943af1df-5ed7-45be-d224-72beb07f2607"
      },
      "execution_count": null,
      "outputs": [
        {
          "output_type": "stream",
          "name": "stdout",
          "text": [
            "Enter a speed in kilometers per hour 80\n",
            "35.7632\n"
          ]
        }
      ]
    },
    {
      "cell_type": "markdown",
      "source": [
        "**Question 20:**Create a Python application that asks the user to enter an amount in pounds and then converts it to kilograms."
      ],
      "metadata": {
        "id": "arQOTt7OA05j"
      }
    },
    {
      "cell_type": "code",
      "source": [
        "lbs=input(\"Enter a weight in pounds: \")\n",
        "lbs=float(lbs)\n",
        "kilos=lbs*0.4535924\n",
        "print(kilos)\n",
        "\n",
        "\n",
        "\n",
        "\n",
        "\n",
        "\n",
        "\n",
        "\n"
      ],
      "metadata": {
        "id": "BocDrMq6A1BT"
      },
      "execution_count": null,
      "outputs": []
    },
    {
      "cell_type": "code",
      "source": [],
      "metadata": {
        "id": "CVPrP-z-pD7q"
      },
      "execution_count": null,
      "outputs": []
    }
  ]
}